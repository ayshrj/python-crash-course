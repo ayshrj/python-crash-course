{
  "cells": [
    {
      "cell_type": "markdown",
      "metadata": {},
      "source": "# Python 3 Crash Course \u2014 Concept \u2192 Practice\n**Updated:** 2025-09-02\n\nFast, practical tour of Python 3.\n\n**How to use**\n1) Read *Concept* \u2192 run *Examples* \u2192 solve *Exercises* (blank with TODOs) \u2192 run *Tests*  \n2) Only if stuck, scroll to the end for **Solutions** (separate blocks per exercise).\n"
    },
    {
      "cell_type": "markdown",
      "metadata": {},
      "source": "## Table of Contents\n1. Variables & Basic Types  \n2. Strings  \n3. Collections  \n4. Control Flow  \n5. Comprehensions  \n6. Functions & Parameters  \n7. Scope & Closures  \n8. Exceptions  \n9. File I/O & Context Managers  \n10. Iterables, Iterators & Generators  \n11. Decorators  \n12. OOP & Dataclasses  \n13. Type Hints  \n14. Standard Library Tour  \n15. Testing Mini-Intro  \n16. Asyncio Basics  \n\n**Solutions are at the very end.**\n"
    },
    {
      "cell_type": "markdown",
      "metadata": {},
      "source": "# 1. Variables & Basic Types \u2014 Concept\n- Dynamic but strongly typed.\n- Scalars: `int`, `float`, `bool`, `NoneType`.\n- Multiple assignment & unpacking are idiomatic.\n"
    },
    {
      "cell_type": "code",
      "metadata": {},
      "source": "# Examples\nx = 10; pi = 3.1415; is_open = True; nothing = None\na, b = 1, 2\na, b = b, a\nprint(type(x), type(pi), type(is_open), type(nothing))\nprint(\"a, b =\", a, b)",
      "execution_count": null,
      "outputs": []
    },
    {
      "cell_type": "code",
      "metadata": {},
      "source": "# EXERCISES 1 \u2014 TODO\n# 1) year=2025 (int), rate=7.5 (float), flag=False, missing=None\n# 2) Swap year and rate via unpacking\n# 3) Unpack [1,2,3] into p,q,r\nyear = None\nrate = None\nflag = None\nmissing = None\n\nyear, rate = year, rate  # TODO: swap properly\np = q = r = None  # TODO: unpack\n",
      "execution_count": null,
      "outputs": []
    },
    {
      "cell_type": "code",
      "metadata": {},
      "source": "# TESTS\nassert isinstance(year, (int, float)) and isinstance(rate, (int, float))\nassert flag in (True, False)\nassert missing is None\nassert year == 7.5 and rate == 2025\nassert (p, q, r) == (1, 2, 3)\nprint(\"\u2705 Section 1 tests passed.\")",
      "execution_count": null,
      "outputs": []
    },
    {
      "cell_type": "markdown",
      "metadata": {},
      "source": "# 2. Strings \u2014 Concept\n- Immutable sequences; common methods: `strip`, `lower/upper`, `replace`, `split/join`.\n- f-strings for interpolation.\n"
    },
    {
      "cell_type": "code",
      "metadata": {},
      "source": "# Examples\ns = \"  Python 3 Crash Course  \"\nprint(s.strip())\nprint(s.lower(), s.upper())\nprint(s.replace(\"Crash\", \"Quick\"))\nprint(\"-\".join([\"a\",\"b\",\"c\"]))\nname, score = \"Hraj\", 98\nprint(f\"{name} scored {score}/100\")",
      "execution_count": null,
      "outputs": []
    },
    {
      "cell_type": "code",
      "metadata": {},
      "source": "# EXERCISES 2 \u2014 TODO\n# 1) Normalize text into 'clean': strip, lowercase, replace spaces with underscores\n# 2) f-string greet: \"Hello, <user>! You have <n> messages.\"\ntext = \"  Hello World From Python  \"\nclean = None\nuser = \"Ada\"; n = 3\ngreet = \"\"  # TODO\n",
      "execution_count": null,
      "outputs": []
    },
    {
      "cell_type": "code",
      "metadata": {},
      "source": "# TESTS\nassert clean == \"hello_world_from_python\"\nassert greet == \"Hello, Ada! You have 3 messages.\"\nprint(\"\u2705 Section 2 tests passed.\")",
      "execution_count": null,
      "outputs": []
    },
    {
      "cell_type": "markdown",
      "metadata": {},
      "source": "# 3. Collections: List, Tuple, Set, Dict \u2014 Concept\n- List (mutable), Tuple (immutable), Set (unique), Dict (mapping).\n"
    },
    {
      "cell_type": "code",
      "metadata": {},
      "source": "# Examples\nnums = [1,2,3]; nums.append(4)\npoint = (10,20)\nunique = {1,2,2,3}\nphone = {\"alice\":\"111\", \"bob\":\"222\"}\nprint(nums, point, unique, phone)\nprint(list(phone.keys()), list(phone.values()), list(phone.items()))",
      "execution_count": null,
      "outputs": []
    },
    {
      "cell_type": "code",
      "metadata": {},
      "source": "# EXERCISES 3 \u2014 TODO\nsquares = []            # 1) [n*n for n in 1..5]\nsquares_t = tuple()     # 2) tuple(squares)\ndedup = set()           # 3) set from [1,1,2,3,3,3]\nm = {}                  # 4) {'a':1, 'b':2} then add 'c':3\n",
      "execution_count": null,
      "outputs": []
    },
    {
      "cell_type": "code",
      "metadata": {},
      "source": "# TESTS\nassert squares == [1,4,9,16,25]\nassert squares_t == (1,4,9,16,25)\nassert dedup == {1,2,3}\nassert m == {'a':1,'b':2,'c':3}\nprint(\"\u2705 Section 3 tests passed.\")",
      "execution_count": null,
      "outputs": []
    },
    {
      "cell_type": "markdown",
      "metadata": {},
      "source": "# 4. Control Flow \u2014 Concept\n- if/elif/else; for/while; break/continue; ternary `x if cond else y`.\n"
    },
    {
      "cell_type": "code",
      "metadata": {},
      "source": "# Examples\nx = 10\nmsg = \"big\" if x > 5 else \"small\"\nprint(msg)\ntotal = 0\nfor i in range(5):\n    if i % 2 == 0:\n        total += i\nprint(\"even-sum\", total)",
      "execution_count": null,
      "outputs": []
    },
    {
      "cell_type": "code",
      "metadata": {},
      "source": "# EXERCISES 4 \u2014 TODO\n# 1) FizzBuzz for 1..20\n# 2) Factorial of 5 into 'fact'\nfact = None\n# TODO: factorial loop\n# TODO: fizzbuzz prints\n",
      "execution_count": null,
      "outputs": []
    },
    {
      "cell_type": "code",
      "metadata": {},
      "source": "# TESTS\nassert fact == 120\nprint(\"\u2705 Section 4 tests passed.\")",
      "execution_count": null,
      "outputs": []
    },
    {
      "cell_type": "markdown",
      "metadata": {},
      "source": "# 5. Comprehensions \u2014 Concept\n- Compact lists/sets/dicts, with conditions.\n"
    },
    {
      "cell_type": "code",
      "metadata": {},
      "source": "# Examples\ndata = [1,2,3,4,5,6]\nevens = [x for x in data if x % 2 == 0]\nsquares = {x: x*x for x in data}\nprint(evens, squares)",
      "execution_count": null,
      "outputs": []
    },
    {
      "cell_type": "code",
      "metadata": {},
      "source": "# EXERCISES 5 \u2014 TODO\ncubes = set()  # 1) cubes of 1..4\nfreq = {}      # 2) letter frequencies of 'banana'\n",
      "execution_count": null,
      "outputs": []
    },
    {
      "cell_type": "code",
      "metadata": {},
      "source": "# TESTS\nassert cubes == {1,8,27,64}\nassert freq == {'b':1,'a':3,'n':2}\nprint(\"\u2705 Section 5 tests passed.\")",
      "execution_count": null,
      "outputs": []
    },
    {
      "cell_type": "markdown",
      "metadata": {},
      "source": "# 6. Functions & Parameters \u2014 Concept\n- `def`, docstrings, defaults, *args/**kwargs.\n"
    },
    {
      "cell_type": "code",
      "metadata": {},
      "source": "# Examples\ndef greet(name, prefix=\"Hello\"):\n    return f\"{prefix}, {name}!\"\ndef add_all(*nums): return sum(nums)\ndef debug(**kwargs): return sorted(kwargs.items())\nprint(greet(\"Ada\")); print(add_all(1,2,3,4)); print(debug(z=3,a=1))",
      "execution_count": null,
      "outputs": []
    },
    {
      "cell_type": "code",
      "metadata": {},
      "source": "# EXERCISES 6 \u2014 TODO\ndef power(base, exp=2):\n    \"\"\"Return base**exp\"\"\"\n    return 0  # placeholder\n\ndef mean(*nums):\n    \"\"\"Average as float; 0.0 when empty\"\"\"\n    return 0.0  # placeholder\n",
      "execution_count": null,
      "outputs": []
    },
    {
      "cell_type": "code",
      "metadata": {},
      "source": "# TESTS\nassert power(3) == 9 and power(2,3) == 8\nassert abs(mean(1,2,3,4) - 2.5) < 1e-9\nassert mean() == 0.0\nprint(\"\u2705 Section 6 tests passed.\")",
      "execution_count": null,
      "outputs": []
    },
    {
      "cell_type": "markdown",
      "metadata": {},
      "source": "# 7. Scope & Closures \u2014 Concept\n- LEGB; closures capture enclosing variables.\n"
    },
    {
      "cell_type": "code",
      "metadata": {},
      "source": "# Examples\ndef multiplier(factor):\n    def apply(x): return factor * x\n    return apply\nprint(multiplier(3)(10))",
      "execution_count": null,
      "outputs": []
    },
    {
      "cell_type": "code",
      "metadata": {},
      "source": "# EXERCISES 7 \u2014 TODO\ndef make_adder(n):\n    def add(x):\n        return x  # placeholder\n    return add\nadd5 = make_adder(5)\nadd10 = make_adder(10)",
      "execution_count": null,
      "outputs": []
    },
    {
      "cell_type": "code",
      "metadata": {},
      "source": "# TESTS\nassert add5(7) == 12\nassert add10(3) == 13\nprint(\"\u2705 Section 7 tests passed.\")",
      "execution_count": null,
      "outputs": []
    },
    {
      "cell_type": "markdown",
      "metadata": {},
      "source": "# 8. Exceptions \u2014 Concept\n- try/except/else/finally; raise errors as needed.\n"
    },
    {
      "cell_type": "code",
      "metadata": {},
      "source": "# Examples\ndef safe_div(a,b):\n    try: return a/b\n    except ZeroDivisionError: return float('inf')\nprint(safe_div(10,2), safe_div(5,0))",
      "execution_count": null,
      "outputs": []
    },
    {
      "cell_type": "code",
      "metadata": {},
      "source": "# EXERCISES 8 \u2014 TODO\ndef to_int(s):\n    # return int(s) or None if fails\n    return None  # placeholder\n",
      "execution_count": null,
      "outputs": []
    },
    {
      "cell_type": "code",
      "metadata": {},
      "source": "# TESTS\nassert to_int(\"42\") == 42\nassert to_int(\"x\") is None\nprint(\"\u2705 Section 8 tests passed.\")",
      "execution_count": null,
      "outputs": []
    },
    {
      "cell_type": "markdown",
      "metadata": {},
      "source": "# 9. File I/O & Context Managers \u2014 Concept\n- `with open(...) as f:`; modes 'r','w','a','rb','wb'.\n"
    },
    {
      "cell_type": "code",
      "metadata": {},
      "source": "# Examples\nsample_path = \"sample.txt\"\nwith open(sample_path, \"w\", encoding=\"utf-8\") as f:\n    f.write(\"first line\\nsecond line\")\nwith open(sample_path, \"r\", encoding=\"utf-8\") as f:\n    lines = [line.strip() for line in f]\nprint(lines)",
      "execution_count": null,
      "outputs": []
    },
    {
      "cell_type": "code",
      "metadata": {},
      "source": "# EXERCISES 9 \u2014 TODO\n# Write 'data.txt' lines A,B,C then read into 'read_back'\npath = \"data.txt\"\nread_back = []  # placeholder\n",
      "execution_count": null,
      "outputs": []
    },
    {
      "cell_type": "code",
      "metadata": {},
      "source": "# TESTS\nassert read_back == [\"A\",\"B\",\"C\"]\nprint(\"\u2705 Section 9 tests passed.\")",
      "execution_count": null,
      "outputs": []
    },
    {
      "cell_type": "markdown",
      "metadata": {},
      "source": "# 10. Iterables, Iterators & Generators \u2014 Concept\n- Generators use `yield` to produce values lazily.\n"
    },
    {
      "cell_type": "code",
      "metadata": {},
      "source": "# Examples\ndef countdown(n):\n    while n>0:\n        yield n\n        n-=1\nprint(list(countdown(5)))",
      "execution_count": null,
      "outputs": []
    },
    {
      "cell_type": "code",
      "metadata": {},
      "source": "# EXERCISES 10 \u2014 TODO\ndef fib(n):\n    # yield first n Fibonacci numbers (0,1,...)\n    yield from []  # placeholder\n",
      "execution_count": null,
      "outputs": []
    },
    {
      "cell_type": "code",
      "metadata": {},
      "source": "# TESTS\nassert list(fib(7)) == [0,1,1,2,3,5,8]\nprint(\"\u2705 Section 10 tests passed.\")",
      "execution_count": null,
      "outputs": []
    },
    {
      "cell_type": "markdown",
      "metadata": {},
      "source": "# 11. Decorators \u2014 Concept\n- Wrap functions to add behavior; use `functools.wraps`.\n"
    },
    {
      "cell_type": "code",
      "metadata": {},
      "source": "# Examples\nfrom functools import wraps\ndef logger(fn):\n    @wraps(fn)\n    def wrapper(*args, **kwargs):\n        print(f\"[LOG] {fn.__name__}{args}{kwargs}\")\n        return fn(*args, **kwargs)\n    return wrapper\n\n@logger\ndef add(a,b): return a+b\nprint(add(2,3))",
      "execution_count": null,
      "outputs": []
    },
    {
      "cell_type": "code",
      "metadata": {},
      "source": "# EXERCISES 11 \u2014 TODO\nimport time, functools\ndef timed(fn):\n    @functools.wraps(fn)\n    def wrapper(*args, **kwargs):\n        # TODO: measure time and print ms\n        return fn(*args, **kwargs)  # placeholder\n    return wrapper\n\n@timed\ndef waste(n):\n    return sum(i*i for i in range(n))",
      "execution_count": null,
      "outputs": []
    },
    {
      "cell_type": "code",
      "metadata": {},
      "source": "# TESTS\nres = waste(10_000)\nassert isinstance(res, int) and res > 0\nprint(\"\u2705 Section 11 tests passed.\")",
      "execution_count": null,
      "outputs": []
    },
    {
      "cell_type": "markdown",
      "metadata": {},
      "source": "# 12. OOP & Dataclasses \u2014 Concept\n- Classes & `@dataclass` for data containers.\n"
    },
    {
      "cell_type": "code",
      "metadata": {},
      "source": "# Examples\nclass Counter:\n    def __init__(self, start=0): self.value = start\n    def inc(self): self.value += 1\n    def __repr__(self): return f\"Counter({self.value})\"\nc = Counter(); c.inc(); print(c)\n\nfrom dataclasses import dataclass\n@dataclass\nclass Point: x: int; y: int\np = Point(3,4); print(p)",
      "execution_count": null,
      "outputs": []
    },
    {
      "cell_type": "code",
      "metadata": {},
      "source": "# EXERCISES 12 \u2014 TODO\nfrom dataclasses import dataclass\n@dataclass\nclass Book:\n    title: str\n    author: str\n    pages: int\n    def is_long(self) -> bool:\n        return False  # placeholder\nbk = Book(\"The Pragmatic Programmer\", \"Hunt & Thomas\", 352)",
      "execution_count": null,
      "outputs": []
    },
    {
      "cell_type": "code",
      "metadata": {},
      "source": "# TESTS\nassert bk.is_long() is True\nassert \"Book(\" in repr(bk)\nprint(\"\u2705 Section 12 tests passed.\")",
      "execution_count": null,
      "outputs": []
    },
    {
      "cell_type": "markdown",
      "metadata": {},
      "source": "# 13. Type Hints (Typing) \u2014 Concept\n- Hints help tools; not enforced at runtime.\n"
    },
    {
      "cell_type": "code",
      "metadata": {},
      "source": "# Examples\nfrom typing import Optional, Callable\ndef maybe_len(s: Optional[str]) -> int: return len(s) if s else 0\ndef apply(fn: Callable[[int], int], x: int) -> int: return fn(x)\nprint(maybe_len(\"hi\"), maybe_len(None)); print(apply(lambda z:z*z, 5))",
      "execution_count": null,
      "outputs": []
    },
    {
      "cell_type": "code",
      "metadata": {},
      "source": "# EXERCISES 13 \u2014 TODO\ndef sum_even(nums: list[int]) -> int:\n    return 0  # placeholder\n",
      "execution_count": null,
      "outputs": []
    },
    {
      "cell_type": "code",
      "metadata": {},
      "source": "# TESTS\nassert sum_even([1,2,3,4,5,6]) == 12\nprint(\"\u2705 Section 13 tests passed.\")",
      "execution_count": null,
      "outputs": []
    },
    {
      "cell_type": "markdown",
      "metadata": {},
      "source": "# 14. Standard Library Tour \u2014 Concept\n- pathlib, datetime, math/random, json, collections, itertools, functools.\n"
    },
    {
      "cell_type": "code",
      "metadata": {},
      "source": "# Examples\nfrom pathlib import Path\nfrom datetime import datetime, timedelta, timezone\nimport math, random, json\nfrom collections import Counter, defaultdict\nimport itertools as it\nfrom functools import lru_cache\n\ntmp = Path(\"tmp_dir\"); tmp.mkdir(exist_ok=True)\n(Path(tmp) / \"file.txt\").write_text(\"hello\")\nnow = datetime.now(timezone.utc)\ntomorrow = now + timedelta(days=1)\ncnt = Counter(\"mississippi\")\npairs = list(it.product([1,2], ['a','b']))\n\n@lru_cache(maxsize=None)\ndef fib_memo(n:int)->int:\n    return n if n<2 else fib_memo(n-1)+fib_memo(n-2)\nprint(tmp.exists(), (tomorrow - now).days, cnt.most_common(2), pairs, fib_memo(20))",
      "execution_count": null,
      "outputs": []
    },
    {
      "cell_type": "code",
      "metadata": {},
      "source": "# EXERCISES 14 \u2014 TODO\njs = \"\"    # json.dumps({'ok': True, 'n': 5}, compact)\ntop1 = None  # Counter('abracadabra').most_common(1)[0]\n",
      "execution_count": null,
      "outputs": []
    },
    {
      "cell_type": "code",
      "metadata": {},
      "source": "# TESTS\nassert js == '{\"ok\":true,\"n\":5}'\nassert top1 == ('a', 5)\nprint(\"\u2705 Section 14 tests passed.\")",
      "execution_count": null,
      "outputs": []
    },
    {
      "cell_type": "markdown",
      "metadata": {},
      "source": "# 15. Testing Mini-Intro (unittest) \u2014 Concept\n- `unittest` allows structured test cases.\n"
    },
    {
      "cell_type": "code",
      "metadata": {},
      "source": "# Examples\nimport unittest\ndef square(x): return x*x\nclass TestMath(unittest.TestCase):\n    def test_square(self): self.assertEqual(square(4), 16)\nsuite = unittest.defaultTestLoader.loadTestsFromTestCase(TestMath)\nunittest.TextTestRunner(verbosity=1).run(suite); print(\"Done.\")",
      "execution_count": null,
      "outputs": []
    },
    {
      "cell_type": "code",
      "metadata": {},
      "source": "# EXERCISES 15 \u2014 TODO\nimport unittest\ndef is_pal(s: str) -> bool:\n    return False  # placeholder\nclass TestPal(unittest.TestCase):\n    def test_basic(self):\n        self.assertTrue(False)  # TODO: add real assertions\nsuite = unittest.defaultTestLoader.loadTestsFromTestCase(TestPal)\nunittest.TextTestRunner(verbosity=1).run(suite); print(\"Done.\")",
      "execution_count": null,
      "outputs": []
    },
    {
      "cell_type": "code",
      "metadata": {},
      "source": "# TESTS\n# Rely on unittest output above.",
      "execution_count": null,
      "outputs": []
    },
    {
      "cell_type": "markdown",
      "metadata": {},
      "source": "# 16. Asyncio Basics \u2014 Concept\n- Define coroutines with `async def`; schedule with `asyncio.gather`.\n"
    },
    {
      "cell_type": "code",
      "metadata": {},
      "source": "# Examples\nimport asyncio, time\nasync def work(name, delay):\n    await asyncio.sleep(delay)\n    return f\"{name} done after {delay}s\"\nasync def main():\n    t0 = time.perf_counter()\n    results = await asyncio.gather(work(\"A\",0.2), work(\"B\",0.1), work(\"C\",0.3))\n    print(results, f\"(elapsed ~{time.perf_counter()-t0:.2f}s)\")\nawait main()",
      "execution_count": null,
      "outputs": []
    },
    {
      "cell_type": "code",
      "metadata": {},
      "source": "# EXERCISES 16 \u2014 (optional)\n# Write your own async fan-out/fan-in. No tests provided.",
      "execution_count": null,
      "outputs": []
    },
    {
      "cell_type": "code",
      "metadata": {},
      "source": "# TESTS\n# none",
      "execution_count": null,
      "outputs": []
    },
    {
      "cell_type": "markdown",
      "metadata": {},
      "source": "---\n# \ud83d\udd10 Solutions (separate blocks \u2014 only peek if needed)\nEach cell below corresponds to the exercises in a section.\n"
    },
    {
      "cell_type": "code",
      "metadata": {},
      "source": "# SOLUTION \u2014 Exercises 1\nyear = 2025\nrate = 7.5\nflag = False\nmissing = None\nyear, rate = rate, year\np, q, r = [1, 2, 3]",
      "execution_count": null,
      "outputs": []
    },
    {
      "cell_type": "code",
      "metadata": {},
      "source": "# SOLUTION \u2014 Exercises 2\ntext = \"  Hello World From Python  \"\nclean = text.strip().lower().replace(\" \", \"_\")\nuser = \"Ada\"; n = 3\ngreet = f\"Hello, {user}! You have {n} messages.",
      "execution_count": null,
      "outputs": []
    },
    {
      "cell_type": "code",
      "metadata": {},
      "source": "# SOLUTION \u2014 Exercises 3\nsquares = [n*n for n in range(1, 6)]\nsquares_t = tuple(squares)\ndedup = set([1,1,2,3,3,3])\nm = {'a': 1, 'b': 2}\nm['c'] = 3",
      "execution_count": null,
      "outputs": []
    },
    {
      "cell_type": "code",
      "metadata": {},
      "source": "# SOLUTION \u2014 Exercises 4\nfact = 1\nn = 5\ni = 1\nwhile i <= n:\n    fact *= i\n    i += 1\n\nfor i in range(1, 21):\n    if i % 15 == 0:\n        print(\"FizzBuzz\")\n    elif i % 3 == 0:\n        print(\"Fizz\")\n    elif i % 5 == 0:\n        print(\"Buzz\")\n    else:\n        print(i)",
      "execution_count": null,
      "outputs": []
    },
    {
      "cell_type": "code",
      "metadata": {},
      "source": "# SOLUTION \u2014 Exercises 5\ncubes = {x**3 for x in range(1,5)}\nword = \"banana\"\nfreq = {ch: word.count(ch) for ch in set(word)}",
      "execution_count": null,
      "outputs": []
    },
    {
      "cell_type": "code",
      "metadata": {},
      "source": "# SOLUTION \u2014 Exercises 6\ndef power(base, exp=2):\n    return base ** exp\ndef mean(*nums):\n    if not nums: return 0.0\n    return sum(nums) / len(nums)",
      "execution_count": null,
      "outputs": []
    },
    {
      "cell_type": "code",
      "metadata": {},
      "source": "# SOLUTION \u2014 Exercises 7\ndef make_adder(n):\n    def add(x):\n        return x + n\n    return add\nadd5 = make_adder(5)\nadd10 = make_adder(10)",
      "execution_count": null,
      "outputs": []
    },
    {
      "cell_type": "code",
      "metadata": {},
      "source": "# SOLUTION \u2014 Exercises 8\ndef to_int(s):\n    try:\n        return int(s)\n    except Exception:\n        return None",
      "execution_count": null,
      "outputs": []
    },
    {
      "cell_type": "code",
      "metadata": {},
      "source": "# SOLUTION \u2014 Exercises 9\npath = \"data.txt\"\nwith open(path, \"w\", encoding=\"utf-8\") as f:\n    for ch in [\"A\", \"B\", \"C\"]:\n        f.write(ch + \"\\n\")\nwith open(path, \"r\", encoding=\"utf-8\") as f:\n    read_back = [line.strip() for line in f]",
      "execution_count": null,
      "outputs": []
    },
    {
      "cell_type": "code",
      "metadata": {},
      "source": "# SOLUTION \u2014 Exercises 10\ndef fib(n):\n    a, b = 0, 1\n    for _ in range(n):\n        yield a\n        a, b = b, a + b",
      "execution_count": null,
      "outputs": []
    },
    {
      "cell_type": "code",
      "metadata": {},
      "source": "# SOLUTION \u2014 Exercises 11\nimport time, functools\ndef timed(fn):\n    @functools.wraps(fn)\n    def wrapper(*args, **kwargs):\n        start = time.perf_counter()\n        try:\n            return fn(*args, **kwargs)\n        finally:\n            elapsed = (time.perf_counter() - start) * 1000\n            print(f\"{fn.__name__} took {elapsed:.2f} ms\")\n    return wrapper\n@timed\ndef waste(n):\n    return sum(i*i for i in range(n))",
      "execution_count": null,
      "outputs": []
    },
    {
      "cell_type": "code",
      "metadata": {},
      "source": "# SOLUTION \u2014 Exercises 12\nfrom dataclasses import dataclass\n@dataclass\nclass Book:\n    title: str\n    author: str\n    pages: int\n    def is_long(self) -> bool:\n        return self.pages > 300\nbk = Book(\"The Pragmatic Programmer\", \"Hunt & Thomas\", 352)",
      "execution_count": null,
      "outputs": []
    },
    {
      "cell_type": "code",
      "metadata": {},
      "source": "# SOLUTION \u2014 Exercises 13\ndef sum_even(nums: list[int]) -> int:\n    return sum(n for n in nums if n % 2 == 0)",
      "execution_count": null,
      "outputs": []
    },
    {
      "cell_type": "code",
      "metadata": {},
      "source": "# SOLUTION \u2014 Exercises 14\nfrom collections import Counter\nimport json\njs = json.dumps({'ok': True, 'n': 5}, separators=(',',':'))\ntop1 = Counter('abracadabra').most_common(1)[0]",
      "execution_count": null,
      "outputs": []
    },
    {
      "cell_type": "code",
      "metadata": {},
      "source": "# SOLUTION \u2014 Exercises 15\nimport unittest\ndef is_pal(s: str) -> bool:\n    return s == s[::-1]\nclass TestPal(unittest.TestCase):\n    def test_basic(self):\n        self.assertTrue(is_pal(\"level\"))\n        self.assertFalse(is_pal(\"python\"))\nsuite = unittest.defaultTestLoader.loadTestsFromTestCase(TestPal)\nunittest.TextTestRunner(verbosity=1).run(suite); print(\"Done.\")",
      "execution_count": null,
      "outputs": []
    },
    {
      "cell_type": "code",
      "metadata": {},
      "source": "# SOLUTION \u2014 Exercises 16 (optional)\nimport asyncio, time\nasync def fetch(name, delay):\n    await asyncio.sleep(delay)\n    return name, delay\nasync def run_all():\n    tasks = [fetch(\"task1\",0.3), fetch(\"task2\",0.1), fetch(\"task3\",0.2)]\n    done = await asyncio.gather(*tasks)\n    return [name for name, _ in sorted(done, key=lambda x: x[1])]\nres = await run_all()\nprint(res)",
      "execution_count": null,
      "outputs": []
    }
  ],
  "metadata": {
    "kernelspec": {
      "display_name": "Python 3",
      "language": "python",
      "name": "python3"
    },
    "language_info": {
      "name": "python",
      "version": "3.x"
    }
  },
  "nbformat": 4,
  "nbformat_minor": 5
}