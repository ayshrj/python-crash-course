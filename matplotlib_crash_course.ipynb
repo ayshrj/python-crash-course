{
  "nbformat": 4,
  "nbformat_minor": 5,
  "metadata": {
    "kernelspec": {
      "name": "python3",
      "display_name": "Python 3"
    },
    "language_info": {
      "name": "python",
      "version": "3.x"
    }
  },
  "cells": [
    {
      "cell_type": "markdown",
      "metadata": {},
      "source": "# Matplotlib Crash Course (Python)\n**Date:** 2025-09-05\n\nThis notebook is a hands-on crash course for Matplotlib (pyplot + object-oriented (OO) API).  \nIt's self-contained—no external data needed—and moves from basics → intermediate topics:\n\n**What you'll learn**\n- Pyplot essentials vs the OO API (Figure/Axes)\n- Line charts, scatter, bar, hist, box/violin, error bars\n- Subplots, grid layouts, styles, rcParams\n- Legends, labels, ticks, formatters, annotations\n- Log scales, twin/secondary axes, date/categorical plotting\n- Heatmaps & images, colorbars, colormaps\n- 3D plots and saving figures\n\n> Tip: Run cell-by-cell. If using JupyterLab/Notebook, **Shift+Enter** runs the current cell."
    },
    {
      "cell_type": "markdown",
      "metadata": {},
      "source": "## 0) Setup\nInstall Matplotlib if needed (uncomment pip cell). We'll also use NumPy for generating example data."
    },
    {
      "cell_type": "code",
      "metadata": {},
      "execution_count": null,
      "outputs": [],
      "source": "# If needed:\n# %pip install matplotlib numpy\n\nimport numpy as np\nimport matplotlib.pyplot as plt\nfrom math import pi\nfrom datetime import datetime, timedelta\n\n# Reproducibility\nnp.random.seed(42)\n\n# Inline figures in classic Jupyter\n# (In some environments this is implicit; safe to leave here.)\n%matplotlib inline"
    },
    {
      "cell_type": "markdown",
      "metadata": {},
      "source": "## 1) Quickstart with `pyplot`\nThe stateful pyplot API is concise and great for quick exploration."
    },
    {
      "cell_type": "code",
      "metadata": {},
      "execution_count": null,
      "outputs": [],
      "source": "x = np.linspace(0, 2*np.pi, 200)\ny = np.sin(x)\n\nplt.figure(figsize=(6, 4))\nplt.plot(x, y, label='sin(x)')\nplt.title('Quickstart: Sine Wave')\nplt.xlabel('x')\nplt.ylabel('sin(x)')\nplt.grid(True)\nplt.legend()\nplt.show()"
    },
    {
      "cell_type": "markdown",
      "metadata": {},
      "source": "## 2) Pyplot vs OO (Object-Oriented) API\nThe OO API gives you explicit control over **Figure** and **Axes**."
    },
    {
      "cell_type": "code",
      "metadata": {},
      "execution_count": null,
      "outputs": [],
      "source": "# OO API example\nx = np.linspace(0, 2*np.pi, 200)\n\nfig, ax = plt.subplots(figsize=(6, 4))\nax.plot(x, np.cos(x), label='cos(x)')\nax.set_title('OO API: Cosine')\nax.set_xlabel('x')\nax.set_ylabel('cos(x)')\nax.grid(True)\nax.legend()\nplt.show()"
    },
    {
      "cell_type": "markdown",
      "metadata": {},
      "source": "## 3) Multiple Lines & Basic Styling\nControl linewidth, linestyle, markers, and alpha. Matplotlib cycles through default colors automatically."
    },
    {
      "cell_type": "code",
      "metadata": {},
      "execution_count": null,
      "outputs": [],
      "source": "x = np.linspace(0, 2*np.pi, 200)\n\nfig, ax = plt.subplots(figsize=(7, 4))\nax.plot(x, np.sin(x), linewidth=2, linestyle='-', marker=None, label='sin')\nax.plot(x, np.cos(x), linewidth=1.5, linestyle='--', marker='o', markersize=3, label='cos')\nax.plot(x, np.sin(2*x), linewidth=1, linestyle='-.', marker='s', markersize=3, alpha=0.8, label='sin(2x)')\nax.set_title('Multiple Lines & Styles')\nax.set_xlabel('x')\nax.set_ylabel('y')\nax.grid(True, linestyle=':')\nax.legend()\nplt.show()"
    },
    {
      "cell_type": "markdown",
      "metadata": {},
      "source": "## 4) Subplots & Layouts\nUse `plt.subplots(rows, cols)` to create a grid of Axes."
    },
    {
      "cell_type": "code",
      "metadata": {},
      "execution_count": null,
      "outputs": [],
      "source": "x = np.linspace(0, 2*np.pi, 200)\n\nfig, axes = plt.subplots(2, 2, figsize=(9, 6), constrained_layout=True)\naxes = axes.ravel()\n\naxes[0].plot(x, np.sin(x)); axes[0].set_title('sin')\naxes[1].plot(x, np.cos(x)); axes[1].set_title('cos')\naxes[2].plot(x, np.tan(x)); axes[2].set_title('tan')\naxes[3].plot(x, np.sin(x) * np.cos(x)); axes[3].set_title('sin·cos')\n\nfor ax in axes:\n    ax.grid(True)\n\nplt.show()"
    },
    {
      "cell_type": "markdown",
      "metadata": {},
      "source": "## 5) Scatter Plots & Colorbars\nUse size (`s`) and color (`c`) mappings; add a colorbar for reference."
    },
    {
      "cell_type": "code",
      "metadata": {},
      "execution_count": null,
      "outputs": [],
      "source": "n = 300\nx = np.random.randn(n)\ny = 0.7*x + 0.5*np.random.randn(n)\nc = np.hypot(x, y)              # color by distance\ns = 30 + 200*np.random.rand(n)  # variable sizes\n\nfig, ax = plt.subplots(figsize=(6, 5))\nsc = ax.scatter(x, y, c=c, s=s, cmap='viridis', alpha=0.8)\nax.set_title('Scatter with color & size mapping')\nax.set_xlabel('x'); ax.set_ylabel('y')\nax.grid(True)\ncb = plt.colorbar(sc, ax=ax)\ncb.set_label('distance')\nplt.show()"
    },
    {
      "cell_type": "markdown",
      "metadata": {},
      "source": "## 6) Bar Charts (Vertical & Horizontal)"
    },
    {
      "cell_type": "code",
      "metadata": {},
      "execution_count": null,
      "outputs": [],
      "source": "cats = ['A', 'B', 'C', 'D', 'E']\nvals = np.random.randint(5, 20, size=len(cats))\n\nfig, (ax1, ax2) = plt.subplots(1, 2, figsize=(10,4), constrained_layout=True)\nax1.bar(cats, vals)\nax1.set_title('Vertical Bars')\nax1.set_ylabel('value')\n\nax2.barh(cats, vals)\nax2.set_title('Horizontal Bars')\nax2.set_xlabel('value')\n\nfor ax in (ax1, ax2):\n    ax.grid(axis='y', linestyle=':')\n\nplt.show()"
    },
    {
      "cell_type": "markdown",
      "metadata": {},
      "source": "### Stacked Bars"
    },
    {
      "cell_type": "code",
      "metadata": {},
      "execution_count": null,
      "outputs": [],
      "source": "cats = ['Q1','Q2','Q3','Q4']\nsales_a = np.array([10, 13, 11, 15])\nsales_b = np.array([7,  9,  12, 10])\n\nfig, ax = plt.subplots(figsize=(7,4))\nax.bar(cats, sales_a, label='Product A')\nax.bar(cats, sales_b, bottom=sales_a, label='Product B')\nax.set_title('Stacked Bars')\nax.set_ylabel('Sales')\nax.legend()\nax.grid(axis='y', linestyle=':')\nplt.show()"
    },
    {
      "cell_type": "markdown",
      "metadata": {},
      "source": "## 7) Histograms"
    },
    {
      "cell_type": "code",
      "metadata": {},
      "execution_count": null,
      "outputs": [],
      "source": "data = np.random.randn(1000)\n\nfig, ax = plt.subplots(figsize=(6,4))\nax.hist(data, bins=30, edgecolor='black', alpha=0.75)\nax.set_title('Histogram')\nax.set_xlabel('value'); ax.set_ylabel('count')\nax.grid(True, linestyle=':')\nplt.show()"
    },
    {
      "cell_type": "markdown",
      "metadata": {},
      "source": "## 8) Box & Violin Plots"
    },
    {
      "cell_type": "code",
      "metadata": {},
      "execution_count": null,
      "outputs": [],
      "source": "np.random.seed(0)\ngroup1 = np.random.normal(loc=0.0, scale=1.0, size=200)\ngroup2 = np.random.normal(loc=0.5, scale=1.5, size=200)\ngroup3 = np.random.normal(loc=-0.5, scale=0.8, size=200)\n\nfig, axes = plt.subplots(1, 2, figsize=(10,4), constrained_layout=True)\naxes[0].boxplot([group1, group2, group3], labels=['G1','G2','G3'])\naxes[0].set_title('Boxplot')\n\naxes[1].violinplot([group1, group2, group3], showmeans=True)\naxes[1].set_title('Violin')\naxes[1].set_xticks([1,2,3]); axes[1].set_xticklabels(['G1','G2','G3'])\n\nfor ax in axes:\n    ax.grid(True, axis='y', linestyle=':')\n\nplt.show()"
    },
    {
      "cell_type": "markdown",
      "metadata": {},
      "source": "## 9) Error Bars & Confidence Bands"
    },
    {
      "cell_type": "code",
      "metadata": {},
      "execution_count": null,
      "outputs": [],
      "source": "x = np.linspace(0, 10, 50)\ny = np.sin(x)\nerr = 0.2 + 0.2*np.sqrt(x)\n\nfig, ax = plt.subplots(figsize=(7,4))\nax.errorbar(x, y, yerr=err, fmt='o-', capsize=3, label='measurements')\nax.fill_between(x, y-err, y+err, alpha=0.2, label='~95% band')\nax.set_title('Error Bars & fill_between')\nax.set_xlabel('x'); ax.set_ylabel('y')\nax.grid(True, linestyle=':')\nax.legend()\nplt.show()"
    },
    {
      "cell_type": "markdown",
      "metadata": {},
      "source": "## 10) Ticks, Formatters, Locators"
    },
    {
      "cell_type": "code",
      "metadata": {},
      "execution_count": null,
      "outputs": [],
      "source": "import matplotlib.ticker as mtick\n\nx = np.linspace(1, 1000, 200)\ny = np.log(x)\n\nfig, ax = plt.subplots(figsize=(7,4))\nax.plot(x, y)\nax.set_xscale('log')\nax.set_title('Log-scale X with custom tick format')\nax.set_xlabel('x (log)'); ax.set_ylabel('log(x)')\n\nax.xaxis.set_major_locator(mtick.LogLocator(base=10.0))\nax.xaxis.set_major_formatter(mtick.LogFormatter(base=10.0))\nax.grid(True, which='both', linestyle=':')\nplt.show()"
    },
    {
      "cell_type": "markdown",
      "metadata": {},
      "source": "## 11) Text & Annotations"
    },
    {
      "cell_type": "code",
      "metadata": {},
      "execution_count": null,
      "outputs": [],
      "source": "x = np.linspace(0, 2*np.pi, 200)\ny = np.sin(x)\n\nfig, ax = plt.subplots(figsize=(7,4))\nax.plot(x, y)\nax.set_title('Annotation Example')\nax.set_xlabel('x'); ax.set_ylabel('sin(x)')\nax.grid(True, linestyle=':')\n\nxm = np.pi/2\nym = 1\nax.scatter([xm], [ym], zorder=5)\nax.annotate('Peak (π/2, 1)',\n            xy=(xm, ym),\n            xytext=(xm+0.7, ym-0.3),\n            arrowprops=dict(arrowstyle='->'))\n\nplt.show()"
    },
    {
      "cell_type": "markdown",
      "metadata": {},
      "source": "## 12) Twin Axes & Secondary Axis"
    },
    {
      "cell_type": "code",
      "metadata": {},
      "execution_count": null,
      "outputs": [],
      "source": "x = np.linspace(0, 10, 200)\ny1 = np.exp(0.3 * x)\ny2 = np.log1p(x)\n\nfig, ax1 = plt.subplots(figsize=(7,4))\nax2 = ax1.twinx()\n\nax1.plot(x, y1, label='exp(0.3x)')\nax2.plot(x, y2, label='log(1+x)', linestyle='--')\n\nax1.set_xlabel('x')\nax1.set_ylabel('exp(0.3x)')\nax2.set_ylabel('log(1+x)')\nax1.set_title('Twin Y-axes')\n\n# Handle two legends elegantly\nlines1, labels1 = ax1.get_legend_handles_labels()\nlines2, labels2 = ax2.get_legend_handles_labels()\nax1.legend(lines1 + lines2, labels1 + labels2, loc='upper left')\n\nax1.grid(True, linestyle=':')\nplt.show()"
    },
    {
      "cell_type": "markdown",
      "metadata": {},
      "source": "### Secondary Axis with a Transform"
    },
    {
      "cell_type": "code",
      "metadata": {},
      "execution_count": null,
      "outputs": [],
      "source": "# Suppose y = f(x) and we want a top axis in degrees for a radian x-axis\nx = np.linspace(0, 2*np.pi, 200)\ny = np.sin(x)\n\nfig, ax = plt.subplots(figsize=(7,4))\nax.plot(x, y)\nax.set_xlabel('radians'); ax.set_ylabel('sin(x)')\nax.set_title('Secondary Axis (radians ↔ degrees)')\nax.grid(True, linestyle=':')\n\ndef rad2deg(x): return x * 180/np.pi\ndef deg2rad(x): return x * np.pi/180\n\nsecax = ax.secondary_xaxis('top', functions=(rad2deg, deg2rad))\nsecax.set_xlabel('degrees')\n\nplt.show()"
    },
    {
      "cell_type": "markdown",
      "metadata": {},
      "source": "## 13) Plotting Dates/Times"
    },
    {
      "cell_type": "code",
      "metadata": {},
      "execution_count": null,
      "outputs": [],
      "source": "import matplotlib.dates as mdates\n\ndates = [datetime(2024,1,1) + timedelta(days=i) for i in range(30)]\nvalues = np.cumsum(np.random.randn(30))\n\nfig, ax = plt.subplots(figsize=(8,4))\nax.plot(dates, values, marker='o', markersize=3)\nax.set_title('Time Series')\nax.set_ylabel('value')\n\nax.xaxis.set_major_locator(mdates.WeekdayLocator(byweekday=mdates.MO))\nax.xaxis.set_major_formatter(mdates.DateFormatter('%b %d'))\nfig.autofmt_xdate()\n\nax.grid(True, linestyle=':')\nplt.show()"
    },
    {
      "cell_type": "markdown",
      "metadata": {},
      "source": "## 14) Categorical Data"
    },
    {
      "cell_type": "code",
      "metadata": {},
      "execution_count": null,
      "outputs": [],
      "source": "langs = ['Python','JavaScript','C++','Go','Rust']\npopularity = [92, 88, 75, 60, 55]\n\nfig, ax = plt.subplots(figsize=(7,4))\nax.bar(langs, popularity)\nax.set_title('Language Popularity (demo)')\nax.set_ylabel('score')\nax.grid(True, axis='y', linestyle=':')\nplt.show()"
    },
    {
      "cell_type": "markdown",
      "metadata": {},
      "source": "## 15) Heatmaps (via `imshow`) + Colorbar"
    },
    {
      "cell_type": "code",
      "metadata": {},
      "execution_count": null,
      "outputs": [],
      "source": "matrix = np.random.rand(10, 12)\n\nfig, ax = plt.subplots(figsize=(7,4))\nim = ax.imshow(matrix, aspect='auto')\nax.set_title('Heatmap Example')\nax.set_xlabel('column'); ax.set_ylabel('row')\ncb = fig.colorbar(im, ax=ax)\ncb.set_label('value')\nplt.show()"
    },
    {
      "cell_type": "markdown",
      "metadata": {},
      "source": "## 16) Images & `imshow`\nYou can show image arrays directly. Here we create a simple gradient."
    },
    {
      "cell_type": "code",
      "metadata": {},
      "execution_count": null,
      "outputs": [],
      "source": "# Create a gradient image\nh, w = 200, 300\ngrad = np.tile(np.linspace(0, 1, w), (h, 1))\n\nfig, ax = plt.subplots(figsize=(6,3))\nax.imshow(grad, cmap='viridis', origin='lower', extent=[0, 1, 0, 1])\nax.set_title('Gradient Image')\nax.set_xlabel('x'); ax.set_ylabel('y')\nplt.show()"
    },
    {
      "cell_type": "markdown",
      "metadata": {},
      "source": "## 17) 3D Plots"
    },
    {
      "cell_type": "code",
      "metadata": {},
      "execution_count": null,
      "outputs": [],
      "source": "from mpl_toolkits.mplot3d import Axes3D  # noqa: F401 (needed for 3D projection)\n\nfig = plt.figure(figsize=(7,5))\nax = fig.add_subplot(111, projection='3d')\n\n# Create surface data\nX = np.linspace(-3, 3, 50)\nY = np.linspace(-3, 3, 50)\nX, Y = np.meshgrid(X, Y)\nZ = np.sin(np.sqrt(X**2 + Y**2))\n\nax.plot_surface(X, Y, Z, linewidth=0, antialiased=True, cmap='viridis')\nax.set_title('3D Surface')\nax.set_xlabel('X'); ax.set_ylabel('Y'); ax.set_zlabel('Z')\nplt.show()"
    },
    {
      "cell_type": "markdown",
      "metadata": {},
      "source": "## 18) Styles & rcParams\nSwitch styles with `plt.style.use(...)`; tweak defaults via `plt.rcParams[...]`."
    },
    {
      "cell_type": "code",
      "metadata": {},
      "execution_count": null,
      "outputs": [],
      "source": "# List available styles\n# print(plt.style.available)\n\n# Use a style temporarily\nplt.style.use('ggplot')\n\n# Example figure with style\nx = np.linspace(0, 2*np.pi, 200)\nfig, ax = plt.subplots(figsize=(6,4))\nax.plot(x, np.sin(x))\nax.set_title('Using ggplot style')\nax.grid(True)\nplt.show()\n\n# Revert to default\nplt.style.use('default')\n\n# Custom rcParams\nplt.rcParams['figure.figsize'] = (6, 4)\nplt.rcParams['axes.grid'] = True\nplt.rcParams['grid.linestyle'] = ':'\n\n# One more quick plot with rcParams applied\nx = np.linspace(0, 4, 200)\nfig, ax = plt.subplots()\nax.plot(x, np.sqrt(x))\nax.set_title('Custom rcParams example')\nplt.show()"
    },
    {
      "cell_type": "markdown",
      "metadata": {},
      "source": "## 19) Layout Management (`tight_layout` vs `constrained_layout`)"
    },
    {
      "cell_type": "code",
      "metadata": {},
      "execution_count": null,
      "outputs": [],
      "source": "fig, axes = plt.subplots(2, 2, figsize=(8,5))\nfor i, ax in enumerate(axes.ravel(), 1):\n    ax.plot(np.linspace(0, 1, 100), np.random.rand(100).cumsum())\n    ax.set_title(f'Ax {i}')\n\nfig.suptitle('tight_layout demo', y=1.02)\nplt.tight_layout()\nplt.show()\n\nfig, axes = plt.subplots(2, 2, figsize=(8,5), constrained_layout=True)\nfor i, ax in enumerate(axes.ravel(), 1):\n    ax.plot(np.linspace(0, 1, 100), np.random.rand(100).cumsum())\n    ax.set_title(f'Ax {i}')\n\nfig.suptitle('constrained_layout demo')\nplt.show()"
    },
    {
      "cell_type": "markdown",
      "metadata": {},
      "source": "## 20) Saving Figures\nUse `fig.savefig(...)`. Common options: `dpi=300`, `bbox_inches='tight'`, `transparent=True`."
    },
    {
      "cell_type": "code",
      "metadata": {},
      "execution_count": null,
      "outputs": [],
      "source": "x = np.linspace(0, 2*np.pi, 200)\ny = np.sin(x)\n\nfig, ax = plt.subplots()\nax.plot(x, y)\nax.set_title('Saving Figures Example')\nax.set_xlabel('x'); ax.set_ylabel('sin(x)')\nax.grid(True)\n\nfig.savefig('saving_example.png', dpi=200, bbox_inches='tight')\nprint('Saved: saving_example.png')\nplt.show()"
    },
    {
      "cell_type": "markdown",
      "metadata": {},
      "source": "## 21) Performance Tips & Useful Snippets\n- Reuse Figures/Axes in loops instead of recreating them repeatedly.\n- For very large scatter plots, consider downsampling or alpha blending.\n- For animations, see `matplotlib.animation.FuncAnimation`.\n- Use the OO API in scripts and applications; pyplot is great for quick exploration.\n- Prefer `constrained_layout=True` to reduce label overlap."
    },
    {
      "cell_type": "markdown",
      "metadata": {},
      "source": "## 22) Mini Exercise\nPlot `y = e^{-x/3} * cos(2πx)` for `x ∈ [0, 10]`, add:\n- Grid, labels, title, legend\n- A vertical line at the global max"
    },
    {
      "cell_type": "code",
      "metadata": {},
      "execution_count": null,
      "outputs": [],
      "source": "x = np.linspace(0, 10, 400)\ny = np.exp(-x/3) * np.cos(2*np.pi*x)\n\nfig, ax = plt.subplots()\nax.plot(x, y, label='e^{-x/3} cos(2πx)')\nax.set_xlabel('x'); ax.set_ylabel('y')\nax.set_title('Damped Cosine')\nax.grid(True)\nax.legend()\n\n# Find max\nimax = np.argmax(y)\nax.axvline(x[imax], linestyle='--')\nax.annotate('global max', xy=(x[imax], y[imax]), xytext=(x[imax]+0.5, y[imax]+0.1),\n            arrowprops=dict(arrowstyle='->'))\nplt.show()"
    },
    {
      "cell_type": "markdown",
      "metadata": {},
      "source": "## 23) Quick Cheat Sheet (mini)\n```python\n# Setup\nimport numpy as np\nimport matplotlib.pyplot as plt\n\n# Quick line\nplt.plot(x, y); plt.show()\n\n# Figure/Axes (OO)\nfig, ax = plt.subplots()\nax.plot(x, y)\nax.set(title='Title', xlabel='X', ylabel='Y')\nax.legend(); ax.grid(True)\nfig.savefig('fig.png', dpi=300, bbox_inches='tight')\n\n# Subplots grid\nfig, axes = plt.subplots(2, 3, figsize=(10,6), constrained_layout=True)\n\n# Scatter with colorbar\nsc = ax.scatter(x, y, c=c, s=s, cmap='viridis'); fig.colorbar(sc, ax=ax)\n\n# Bar/hist\nax.bar(categories, values)\nax.hist(data, bins=30)\n\n# Ticks/format\nimport matplotlib.ticker as mtick\nax.xaxis.set_major_locator(mtick.MaxNLocator(5))\n\n# Twin axes\nax2 = ax.twinx()\n\n# Secondary axis\nsecax = ax.secondary_xaxis('top', functions=(fwd, inv))\n\n# Date formatting\nimport matplotlib.dates as mdates\nax.xaxis.set_major_formatter(mdates.DateFormatter('%b %d'))\nfig.autofmt_xdate()\n```\n**Official docs:** https://matplotlib.org/stable/index.html"
    }
  ]
}