{
  "cells": [
    {
      "cell_type": "markdown",
      "metadata": {},
      "source": "# Python 3 Crash Course \u2014 Concept \u2192 Practice\n**Updated:** 2025-09-02\n\nWelcome! This notebook is a fast, practical tour of modern Python 3.\n\n**How to use this notebook**\n1. Read the short *Concept* section.\n2. Run the *Examples* code cell.\n3. Do the *Exercises* and then run the *Tests*.\n4. If stuck, peek at the **Solution** right after each exercise block.\n\n> Tip: Use _Run All Above_ for a section, then iterate. Tests are simple `assert` checks.\n"
    },
    {
      "cell_type": "markdown",
      "metadata": {},
      "source": "## Table of Contents\n1. Variables & Basic Types  \n2. Strings  \n3. Collections: List, Tuple, Set, Dict  \n4. Control Flow  \n5. Comprehensions  \n6. Functions & Parameters  \n7. Scope & Closures  \n8. Exceptions  \n9. File I/O & Context Managers  \n10. Iterables, Iterators & Generators  \n11. Decorators  \n12. Object-Oriented Programming (Classes & Dataclasses)  \n13. Type Hints (Typing)  \n14. Standard Library Tour (pathlib, datetime, math/random, json, collections, itertools, functools)  \n15. Testing Mini-Intro (unittest)  \n16. Asyncio Basics  \n"
    },
    {
      "cell_type": "markdown",
      "metadata": {},
      "source": "# 1. Variables & Basic Types \u2014 Concept\n- Python is dynamically typed but strongly typed.\n- Common scalar types: `int`, `float`, `bool`, `NoneType`.\n- Multiple assignment and unpacking are idiomatic.\n- Use `type()` to inspect, `isinstance()` for checks.\n"
    },
    {
      "cell_type": "code",
      "metadata": {},
      "source": "# Examples\nx = 10          # int\npi = 3.1415     # float\nis_open = True  # bool\nnothing = None  # NoneType\n\na, b = 1, 2     # multiple assignment\na, b = b, a     # swap\n\nprint(type(x), type(pi), type(is_open), type(nothing))\nprint(\"a, b =\", a, b)",
      "execution_count": null,
      "outputs": []
    },
    {
      "cell_type": "code",
      "metadata": {},
      "source": "# EXERCISES \u2014 edit this cell\n# 1) Create variables: year=2025 (int), rate=7.5 (float), flag=False (bool), missing=None\n# 2) Swap year and rate using Pythonic unpacking, not a temp variable.\n# 3) Create three variables p,q,r from list [1,2,3] using unpacking\n\nyear = 2025\nrate = 7.5\nflag = False\nmissing = None\n\nyear, rate = rate, year\n\np, q, r = [1, 2, 3]",
      "execution_count": null,
      "outputs": []
    },
    {
      "cell_type": "code",
      "metadata": {},
      "source": "# TESTS \u2014 run after editing the exercise cell above\nassert isinstance(year, (int, float)) and isinstance(rate, (int, float))\nassert flag in (True, False)\nassert missing is None\n# after swap, year should be 7.5 and rate should be 2025\nassert year == 7.5 and rate == 2025\nassert (p, q, r) == (1, 2, 3)\nprint(\"\u2705 Section 1 tests passed.\")",
      "execution_count": null,
      "outputs": []
    },
    {
      "cell_type": "markdown",
      "metadata": {},
      "source": "# 2. Strings \u2014 Concept\n- Strings are immutable sequences.\n- Useful ops: slicing, methods (`upper`, `split`, `join`, `strip`, `replace`).\n- f-strings for interpolation.\n"
    },
    {
      "cell_type": "code",
      "metadata": {},
      "source": "# Examples\ns = \"  Python 3 Crash Course  \"\nprint(s.strip())\nprint(s.lower(), s.upper())\nprint(s.replace(\"Crash\", \"Quick\"))\nprint(\"-\".join([\"a\",\"b\",\"c\"]))\nname, score = \"Hraj\", 98\nprint(f\"{name} scored {score}/100\")",
      "execution_count": null,
      "outputs": []
    },
    {
      "cell_type": "code",
      "metadata": {},
      "source": "# EXERCISES \u2014 edit this cell\n# 1) Given text, remove surrounding spaces, lowercase it, and replace spaces with underscores.\n# 2) Create an f-string greeting: \"Hello, <user>! You have <n> messages.\"\ntext = \"  Hello World From Python  \"\nclean = text.strip().lower().replace(\" \", \"_\")\n\nuser = \"Ada\"\nn = 3\ngreet = f\"Hello, {user}! You have {n} messages.\" ",
      "execution_count": null,
      "outputs": []
    },
    {
      "cell_type": "code",
      "metadata": {},
      "source": "# TESTS\nassert clean == \"hello_world_from_python\"\nassert greet == \"Hello, Ada! You have 3 messages.\"\nprint(\"\u2705 Section 2 tests passed.\")",
      "execution_count": null,
      "outputs": []
    },
    {
      "cell_type": "markdown",
      "metadata": {},
      "source": "# 3. Collections \u2014 Concept\n- **List**: ordered, mutable.  \n- **Tuple**: ordered, immutable.  \n- **Set**: unordered, unique elements.  \n- **Dict**: key\u2192value mapping.\n"
    },
    {
      "cell_type": "code",
      "metadata": {},
      "source": "# Examples\nnums = [1, 2, 3]; nums.append(4)\npoint = (10, 20)\nunique = {1, 2, 2, 3}\nphone = {\"alice\": \"111\", \"bob\": \"222\"}\nprint(nums, point, unique, phone)\nprint(list(phone.keys()), list(phone.values()), list(phone.items()))",
      "execution_count": null,
      "outputs": []
    },
    {
      "cell_type": "code",
      "metadata": {},
      "source": "# EXERCISES \u2014 edit this cell\n# 1) Make a list of squares from 1..5.\n# 2) Turn it into a tuple.\n# 3) Build a set from [1,1,2,3,3,3] \u2192 should be {1,2,3}.\n# 4) Create a dict mapping 'a'->1, 'b'->2; then add key 'c'->3.\nsquares = [n*n for n in range(1, 6)]\nsquares_t = tuple(squares)\ndedup = set([1,1,2,3,3,3])\nm = {'a': 1, 'b': 2}\nm['c'] = 3",
      "execution_count": null,
      "outputs": []
    },
    {
      "cell_type": "code",
      "metadata": {},
      "source": "# TESTS\nassert squares == [1,4,9,16,25]\nassert squares_t == (1,4,9,16,25)\nassert dedup == {1,2,3}\nassert m == {'a':1,'b':2,'c':3}\nprint(\"\u2705 Section 3 tests passed.\")",
      "execution_count": null,
      "outputs": []
    },
    {
      "cell_type": "markdown",
      "metadata": {},
      "source": "# 4. Control Flow \u2014 Concept\n- `if/elif/else`\n- `for` loops iterate items; `range()` for counts.\n- `while` loops; `break/continue`\n- Ternary: `x if cond else y`\n"
    },
    {
      "cell_type": "code",
      "metadata": {},
      "source": "# Examples\nx = 10\nmsg = \"big\" if x > 5 else \"small\"\nprint(msg)\n\ntotal = 0\nfor i in range(5):\n    if i % 2 == 0:\n        total += i\nprint(\"even-sum\", total)",
      "execution_count": null,
      "outputs": []
    },
    {
      "cell_type": "code",
      "metadata": {},
      "source": "# EXERCISES \u2014 edit this cell\n# 1) Write fizzbuzz from 1..20: print \"Fizz\" for /3, \"Buzz\" for /5, \"FizzBuzz\" for both, else number.\n# 2) Using a while loop, compute factorial of n=5 (result 120). Store in variable 'fact'.\nfact = 1\nn = 5\ni = 1\nwhile i <= n:\n    fact *= i\n    i += 1\n\nfor i in range(1, 21):\n    if i % 15 == 0:\n        print(\"FizzBuzz\")\n    elif i % 3 == 0:\n        print(\"Fizz\")\n    elif i % 5 == 0:\n        print(\"Buzz\")\n    else:\n        print(i)",
      "execution_count": null,
      "outputs": []
    },
    {
      "cell_type": "code",
      "metadata": {},
      "source": "# TESTS\nassert fact == 120\nprint(\"\u2705 Section 4 tests passed.\")",
      "execution_count": null,
      "outputs": []
    },
    {
      "cell_type": "markdown",
      "metadata": {},
      "source": "# 5. Comprehensions \u2014 Concept\n- Compact creation of lists/sets/dicts.\n- With conditions, nested loops.\n"
    },
    {
      "cell_type": "code",
      "metadata": {},
      "source": "# Examples\ndata = [1,2,3,4,5,6]\nevens = [x for x in data if x % 2 == 0]\nsquares = {x: x*x for x in data}\nprint(evens, squares)",
      "execution_count": null,
      "outputs": []
    },
    {
      "cell_type": "code",
      "metadata": {},
      "source": "# EXERCISES \u2014 edit this cell\n# 1) Make a set of cubes for numbers 1..4.\n# 2) Build a dict of char frequencies for \"banana\" \u2192 {'b':1,'a':3,'n':2}\ncubes = {x**3 for x in range(1,5)}\nword = \"banana\"\nfreq = {ch: word.count(ch) for ch in set(word)}",
      "execution_count": null,
      "outputs": []
    },
    {
      "cell_type": "code",
      "metadata": {},
      "source": "# TESTS\nassert cubes == {1,8,27,64}\nassert freq == {'b':1,'a':3,'n':2}\nprint(\"\u2705 Section 5 tests passed.\")",
      "execution_count": null,
      "outputs": []
    },
    {
      "cell_type": "markdown",
      "metadata": {},
      "source": "# 6. Functions & Parameters \u2014 Concept\n- Define with `def`; docstrings for help.\n- Positional, keyword, default args; `*args`, `**kwargs`.\n- Pure functions are easier to test.\n"
    },
    {
      "cell_type": "code",
      "metadata": {},
      "source": "# Examples\ndef greet(name, prefix=\"Hello\"):\n    \"\"\"Return a greeting.\"\"\"\n    return f\"{prefix}, {name}!\"\n\ndef add_all(*nums):\n    return sum(nums)\n\ndef debug(**kwargs):\n    return sorted(kwargs.items())\n\nprint(greet(\"Ada\"))\nprint(add_all(1,2,3,4))\nprint(debug(z=3, a=1))",
      "execution_count": null,
      "outputs": []
    },
    {
      "cell_type": "code",
      "metadata": {},
      "source": "# EXERCISES \u2014 edit this cell\n# 1) Write power(base, exp=2) that returns base**exp.\n# 2) Write mean(*nums) that returns average (float). For no inputs, return 0.0.\ndef power(base, exp=2):\n    return base ** exp\n\ndef mean(*nums):\n    if not nums:\n        return 0.0\n    return sum(nums) / len(nums)",
      "execution_count": null,
      "outputs": []
    },
    {
      "cell_type": "code",
      "metadata": {},
      "source": "# TESTS\nassert power(3) == 9 and power(2,3) == 8\nassert abs(mean(1,2,3,4) - 2.5) < 1e-9\nassert mean() == 0.0\nprint(\"\u2705 Section 6 tests passed.\")",
      "execution_count": null,
      "outputs": []
    },
    {
      "cell_type": "markdown",
      "metadata": {},
      "source": "# 7. Scope & Closures \u2014 Concept\n- LEGB resolution (Local, Enclosing, Global, Built-in).\n- Closure = function capturing variables from enclosing scope.\n"
    },
    {
      "cell_type": "code",
      "metadata": {},
      "source": "# Examples\ndef multiplier(factor):\n    def apply(x):\n        return factor * x   # captures factor\n    return apply\n\ntimes3 = multiplier(3)\nprint(times3(10))  # 30",
      "execution_count": null,
      "outputs": []
    },
    {
      "cell_type": "code",
      "metadata": {},
      "source": "# EXERCISES \u2014 edit this cell\n# 1) Write make_adder(n) that returns a function adding n to its input.\ndef make_adder(n):\n    def add(x):\n        return x + n\n    return add\n\nadd5 = make_adder(5)\nadd10 = make_adder(10)",
      "execution_count": null,
      "outputs": []
    },
    {
      "cell_type": "code",
      "metadata": {},
      "source": "# TESTS\nassert add5(7) == 12\nassert add10(3) == 13\nprint(\"\u2705 Section 7 tests passed.\")",
      "execution_count": null,
      "outputs": []
    },
    {
      "cell_type": "markdown",
      "metadata": {},
      "source": "# 8. Exceptions \u2014 Concept\n- Use `try/except/else/finally`.\n- Raise with `raise ValueError(\"msg\")`.\n"
    },
    {
      "cell_type": "code",
      "metadata": {},
      "source": "# Examples\ndef safe_div(a, b):\n    try:\n        return a / b\n    except ZeroDivisionError:\n        return float('inf')\n    finally:\n        pass\n\nprint(safe_div(10, 2), safe_div(5, 0))",
      "execution_count": null,
      "outputs": []
    },
    {
      "cell_type": "code",
      "metadata": {},
      "source": "# EXERCISES \u2014 edit this cell\n# 1) Write to_int(s) that returns int(s) or None if it fails.\ndef to_int(s):\n    try:\n        return int(s)\n    except Exception:\n        return None",
      "execution_count": null,
      "outputs": []
    },
    {
      "cell_type": "code",
      "metadata": {},
      "source": "# TESTS\nassert to_int(\"42\") == 42\nassert to_int(\"x\") is None\nprint(\"\u2705 Section 8 tests passed.\")",
      "execution_count": null,
      "outputs": []
    },
    {
      "cell_type": "markdown",
      "metadata": {},
      "source": "# 9. File I/O & Context Managers \u2014 Concept\n- Use `with open(...) as f:` to ensure closing.\n- Modes: 'r', 'w', 'a', 'rb', 'wb'.\n"
    },
    {
      "cell_type": "code",
      "metadata": {},
      "source": "# Examples\nsample_path = \"sample.txt\"\nwith open(sample_path, \"w\", encoding=\"utf-8\") as f:\n    f.write(\"first line\\nsecond line\")\n\nwith open(sample_path, \"r\", encoding=\"utf-8\") as f:\n    lines = [line.strip() for line in f]\n\nprint(lines)",
      "execution_count": null,
      "outputs": []
    },
    {
      "cell_type": "code",
      "metadata": {},
      "source": "# EXERCISES \u2014 edit this cell\n# 1) Write 'data.txt' with 3 lines: A, B, C.\n# 2) Read it back into a list 'read_back' of strings without newlines.\npath = \"data.txt\"\nwith open(path, \"w\", encoding=\"utf-8\") as f:\n    for ch in [\"A\", \"B\", \"C\"]:\n        f.write(ch + \"\\n\")\n\nwith open(path, \"r\", encoding=\"utf-8\") as f:\n    read_back = [line.strip() for line in f]",
      "execution_count": null,
      "outputs": []
    },
    {
      "cell_type": "code",
      "metadata": {},
      "source": "# TESTS\nassert read_back == [\"A\",\"B\",\"C\"]\nprint(\"\u2705 Section 9 tests passed.\")",
      "execution_count": null,
      "outputs": []
    },
    {
      "cell_type": "markdown",
      "metadata": {},
      "source": "# 10. Iterables, Iterators & Generators \u2014 Concept\n- Iterable: can be looped over; Iterator: has `__next__`.\n- Generators use `yield` to produce a sequence lazily.\n"
    },
    {
      "cell_type": "code",
      "metadata": {},
      "source": "# Examples\ndef countdown(n):\n    while n > 0:\n        yield n\n        n -= 1\n\nprint(list(countdown(5)))",
      "execution_count": null,
      "outputs": []
    },
    {
      "cell_type": "code",
      "metadata": {},
      "source": "# EXERCISES \u2014 edit this cell\n# 1) Write fib(n) generator producing first n Fibonacci numbers (starting 0,1,...).\ndef fib(n):\n    a, b = 0, 1\n    for _ in range(n):\n        yield a\n        a, b = b, a + b",
      "execution_count": null,
      "outputs": []
    },
    {
      "cell_type": "code",
      "metadata": {},
      "source": "# TESTS\nassert list(fib(7)) == [0,1,1,2,3,5,8]\nprint(\"\u2705 Section 10 tests passed.\")",
      "execution_count": null,
      "outputs": []
    },
    {
      "cell_type": "markdown",
      "metadata": {},
      "source": "# 11. Decorators \u2014 Concept\n- Functions that wrap other functions to add behavior.\n- Use `functools.wraps` to preserve metadata.\n"
    },
    {
      "cell_type": "code",
      "metadata": {},
      "source": "# Examples\nfrom functools import wraps\ndef logger(fn):\n    @wraps(fn)\n    def wrapper(*args, **kwargs):\n        print(f\"[LOG] {fn.__name__}{args}{kwargs}\")\n        return fn(*args, **kwargs)\n    return wrapper\n\n@logger\ndef add(a, b): return a + b\nprint(add(2,3))",
      "execution_count": null,
      "outputs": []
    },
    {
      "cell_type": "code",
      "metadata": {},
      "source": "# EXERCISES \u2014 edit this cell\n# 1) Write a decorator 'timed' that measures execution time (use time.perf_counter).\nimport time, functools\n\ndef timed(fn):\n    @functools.wraps(fn)\n    def wrapper(*args, **kwargs):\n        start = time.perf_counter()\n        try:\n            return fn(*args, **kwargs)\n        finally:\n            elapsed = (time.perf_counter() - start) * 1000\n            print(f\"{fn.__name__} took {elapsed:.2f} ms\")\n    return wrapper\n\n@timed\ndef waste(n):\n    return sum(i*i for i in range(n))",
      "execution_count": null,
      "outputs": []
    },
    {
      "cell_type": "code",
      "metadata": {},
      "source": "# TESTS\nres = waste(10_000)\nassert isinstance(res, int) and res > 0\nprint(\"\u2705 Section 11 tests passed.\")",
      "execution_count": null,
      "outputs": []
    },
    {
      "cell_type": "markdown",
      "metadata": {},
      "source": "# 12. Object-Oriented Programming \u2014 Concept\n- Define classes with `class` and methods (`__init__`, `__repr__`, etc.).\n- `@dataclass` auto-generates init/eq/repr.\n"
    },
    {
      "cell_type": "code",
      "metadata": {},
      "source": "# Examples\nclass Counter:\n    def __init__(self, start=0):\n        self.value = start\n    def inc(self):\n        self.value += 1\n    def __repr__(self):\n        return f\"Counter({self.value})\"\n\nc = Counter(); c.inc(); print(c)\n\nfrom dataclasses import dataclass\n@dataclass\nclass Point:\n    x: int\n    y: int\np = Point(3,4); print(p)",
      "execution_count": null,
      "outputs": []
    },
    {
      "cell_type": "code",
      "metadata": {},
      "source": "# EXERCISES \u2014 edit this cell\n# 1) Create a dataclass Book(title:str, author:str, pages:int) and a method is_long(self)->bool if pages>300.\nfrom dataclasses import dataclass\n\n@dataclass\nclass Book:\n    title: str\n    author: str\n    pages: int\n    def is_long(self) -> bool:\n        return self.pages > 300\n\nbk = Book(\"The Pragmatic Programmer\", \"Hunt & Thomas\", 352)",
      "execution_count": null,
      "outputs": []
    },
    {
      "cell_type": "code",
      "metadata": {},
      "source": "# TESTS\nassert bk.is_long() is True\nassert \"Book(\" in repr(bk)\nprint(\"\u2705 Section 12 tests passed.\")",
      "execution_count": null,
      "outputs": []
    },
    {
      "cell_type": "markdown",
      "metadata": {},
      "source": "# 13. Type Hints (Typing) \u2014 Concept\n- Hints aid tools (mypy, IDEs) but are optional at runtime.\n- Use `list[int]`, `dict[str, int]`, `Optional`, `Callable`.\n"
    },
    {
      "cell_type": "code",
      "metadata": {},
      "source": "# Examples\nfrom typing import Optional, Callable\n\ndef maybe_len(s: Optional[str]) -> int:\n    return len(s) if s else 0\n\ndef apply(fn: Callable[[int], int], x: int) -> int:\n    return fn(x)\n\nprint(maybe_len(\"hi\"), maybe_len(None))\nprint(apply(lambda z: z*z, 5))",
      "execution_count": null,
      "outputs": []
    },
    {
      "cell_type": "code",
      "metadata": {},
      "source": "# EXERCISES \u2014 edit this cell\n# 1) Annotate sum_even(nums) -> int that sums even numbers in a list[int].\nfrom typing import Iterable\n\ndef sum_even(nums: list[int]) -> int:\n    return sum(n for n in nums if n % 2 == 0)",
      "execution_count": null,
      "outputs": []
    },
    {
      "cell_type": "code",
      "metadata": {},
      "source": "# TESTS\nassert sum_even([1,2,3,4,5,6]) == 12\nprint(\"\u2705 Section 13 tests passed.\")",
      "execution_count": null,
      "outputs": []
    },
    {
      "cell_type": "markdown",
      "metadata": {},
      "source": "# 14. Standard Library Tour \u2014 Concept\n- **pathlib** for paths; **datetime** for dates; **math/random**; **json**;  \n- **collections** (Counter, defaultdict); **itertools** (accumulate, groupby, product);\n- **functools** (lru_cache, partial).\n"
    },
    {
      "cell_type": "code",
      "metadata": {},
      "source": "# Examples\nfrom pathlib import Path\nfrom datetime import datetime, timedelta, timezone\nimport math, random, json\nfrom collections import Counter, defaultdict\nimport itertools as it\nfrom functools import lru_cache, partial\n\n# pathlib\ntmp = Path(\"tmp_dir\"); tmp.mkdir(exist_ok=True)\n(Path(tmp) / \"file.txt\").write_text(\"hello\")\n\n# datetime\nnow = datetime.now(timezone.utc)\ntomorrow = now + timedelta(days=1)\n\n# collections\ncnt = Counter(\"mississippi\")\n\n# itertools\npairs = list(it.product([1,2], ['a','b']))\n\n# functools\n@lru_cache(maxsize=None)\ndef fib_memo(n:int)->int:\n    return n if n<2 else fib_memo(n-1)+fib_memo(n-2)\n\nprint(tmp.exists(), (tomorrow - now).days, cnt.most_common(2), pairs, fib_memo(20))",
      "execution_count": null,
      "outputs": []
    },
    {
      "cell_type": "code",
      "metadata": {},
      "source": "# EXERCISES \u2014 edit this cell\n# 1) Use json.dumps to serialize {'ok': True, 'n': 5} to a compact string 'js'.\n# 2) Use Counter to compute top-1 letter in 'abracadabra' -> ('a', 5)\nfrom collections import Counter\nimport json\njs = json.dumps({'ok': True, 'n': 5}, separators=(',',':'))\ntop1 = Counter('abracadabra').most_common(1)[0]",
      "execution_count": null,
      "outputs": []
    },
    {
      "cell_type": "code",
      "metadata": {},
      "source": "# TESTS\nassert js == '{\"ok\":true,\"n\":5}'\nassert top1 == ('a', 5)\nprint(\"\u2705 Section 14 tests passed.\")",
      "execution_count": null,
      "outputs": []
    },
    {
      "cell_type": "markdown",
      "metadata": {},
      "source": "# 15. Testing Mini-Intro \u2014 Concept\n- Built-in `unittest` allows structured test cases.\n- Here we show a tiny example you can run in-notebook.\n"
    },
    {
      "cell_type": "code",
      "metadata": {},
      "source": "# Examples\nimport unittest\n\ndef square(x): return x*x\n\nclass TestMath(unittest.TestCase):\n    def test_square(self):\n        self.assertEqual(square(4), 16)\n\nsuite = unittest.defaultTestLoader.loadTestsFromTestCase(TestMath)\nunittest.TextTestRunner(verbosity=1).run(suite); print(\"Done.\")",
      "execution_count": null,
      "outputs": []
    },
    {
      "cell_type": "code",
      "metadata": {},
      "source": "# EXERCISES \u2014 edit this cell\n# 1) Write function is_pal(s) returning True if s == s[::-1].\n# 2) Add a unittest with two assertions.\nimport unittest\n\ndef is_pal(s: str) -> bool:\n    return s == s[::-1]\n\nclass TestPal(unittest.TestCase):\n    def test_basic(self):\n        self.assertTrue(is_pal(\"level\"))\n        self.assertFalse(is_pal(\"python\"))\n\nsuite = unittest.defaultTestLoader.loadTestsFromTestCase(TestPal)\nunittest.TextTestRunner(verbosity=1).run(suite); print(\"Done.\")",
      "execution_count": null,
      "outputs": []
    },
    {
      "cell_type": "markdown",
      "metadata": {},
      "source": "# 16. Asyncio Basics \u2014 Concept\n- Use `async def` to define coroutines, `await` to suspend.\n- Schedule with `asyncio.gather`.\n> Jupyter tip: `asyncio.run` may not work inside certain notebook kernels; we'll use a small helper.\n"
    },
    {
      "cell_type": "code",
      "metadata": {},
      "source": "# Examples\nimport asyncio, time\n\nasync def work(name, delay):\n    await asyncio.sleep(delay)\n    return f\"{name} done after {delay}s\"\n\nasync def main():\n    t0 = time.perf_counter()\n    results = await asyncio.gather(\n        work(\"A\", 0.2),\n        work(\"B\", 0.1),\n        work(\"C\", 0.3),\n    )\n    print(results, f\"(elapsed ~{time.perf_counter()-t0:.2f}s)\")\n\n# In notebooks, this pattern is safer than asyncio.run:\nawait main()",
      "execution_count": null,
      "outputs": []
    },
    {
      "cell_type": "markdown",
      "metadata": {},
      "source": "---\n## You did it!\nThis covers the essentials of Python 3 with hands-on practice.\n\n**Next steps**\n- Explore packaging (`pip`, `venv`, `pyproject.toml`).\n- Learn data tools (NumPy, pandas) or web (Flask/FastAPI).\n- Read the official tutorial: https://docs.python.org/3/tutorial/\n\nHappy hacking! \ud83d\udc0d\n"
    }
  ],
  "metadata": {
    "kernelspec": {
      "display_name": "Python 3",
      "language": "python",
      "name": "python3"
    },
    "language_info": {
      "name": "python",
      "version": "3.x"
    }
  },
  "nbformat": 4,
  "nbformat_minor": 5
}